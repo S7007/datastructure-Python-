{
 "metadata": {
  "language_info": {
   "codemirror_mode": {
    "name": "ipython",
    "version": 3
   },
   "file_extension": ".py",
   "mimetype": "text/x-python",
   "name": "python",
   "nbconvert_exporter": "python",
   "pygments_lexer": "ipython3",
   "version": "3.8.8"
  },
  "orig_nbformat": 2,
  "kernelspec": {
   "name": "python388jvsc74a57bd0b3ba2566441a7c06988d0923437866b63cedc61552a5af99d1f4fb67d367b25f",
   "display_name": "Python 3.8.8 64-bit ('base': conda)"
  }
 },
 "nbformat": 4,
 "nbformat_minor": 2,
 "cells": [
  {
   "cell_type": "code",
   "execution_count": 1,
   "metadata": {},
   "outputs": [
    {
     "output_type": "stream",
     "name": "stdout",
     "text": [
      "Initial stack\n['a', 'b', 'c']\n\nElements poped from stack:\nc\nb\na\n\nStack after elements are poped:\n[]\n"
     ]
    }
   ],
   "source": [
    "stack = []\n",
    "\n",
    "stack.append('a')\n",
    "stack.append('b')\n",
    "stack.append('c')\n",
    " \n",
    "print('Initial stack')\n",
    "print(stack)\n",
    " \n",
    "print('\\nElements poped from stack:')\n",
    "print(stack.pop())\n",
    "print(stack.pop())\n",
    "print(stack.pop())\n",
    " \n",
    "print('\\nStack after elements are poped:')\n",
    "print(stack)\n",
    " "
   ]
  },
  {
   "cell_type": "code",
   "execution_count": 2,
   "metadata": {},
   "outputs": [
    {
     "output_type": "stream",
     "name": "stdout",
     "text": [
      "Initial stack:\ndeque(['a', 'b', 'c'])\n\nElements poped from stack:\nc\nb\na\n\nStack after elements are poped:\ndeque([])\n"
     ]
    }
   ],
   "source": [
    " #using collections.deque\n",
    "from collections import deque\n",
    " \n",
    "stack = deque()\n",
    " \n",
    "stack.append('a')\n",
    "stack.append('b')\n",
    "stack.append('c')\n",
    " \n",
    "print('Initial stack:')\n",
    "print(stack)\n",
    " \n",
    "print('\\nElements poped from stack:')\n",
    "print(stack.pop())\n",
    "print(stack.pop())\n",
    "print(stack.pop())\n",
    " \n",
    "print('\\nStack after elements are poped:')\n",
    "print(stack)\n",
    " "
   ]
  },
  {
   "cell_type": "code",
   "execution_count": 3,
   "metadata": {},
   "outputs": [
    {
     "output_type": "stream",
     "name": "stdout",
     "text": [
      "0\nFull:  True\nSize:  3\n\nElements poped from the stack\nc\nb\na\n\nEmpty:  True\n"
     ]
    }
   ],
   "source": [
    "\n",
    "#using queue module\n",
    "\n",
    "from queue import LifoQueue\n",
    " \n",
    "stack = LifoQueue(maxsize = 3)\n",
    " \n",
    "print(stack.qsize())\n",
    "  \n",
    "stack.put('a')\n",
    "stack.put('b')\n",
    "stack.put('c')\n",
    " \n",
    "print(\"Full: \", stack.full())\n",
    "print(\"Size: \", stack.qsize())\n",
    " \n",
    "print('\\nElements poped from the stack')\n",
    "print(stack.get())\n",
    "print(stack.get())\n",
    "print(stack.get())\n",
    " \n",
    "print(\"\\nEmpty: \", stack.empty())"
   ]
  },
  {
   "cell_type": "code",
   "execution_count": 4,
   "metadata": {},
   "outputs": [
    {
     "output_type": "stream",
     "name": "stdout",
     "text": [
      "Stack: 10->9->8->7->6->5->4->3->2->\nPop: 10\nPop: 9\nPop: 8\nPop: 7\nPop: 6\nStack: 5->4->3->2->\n"
     ]
    }
   ],
   "source": [
    "# Python program to demonstrate\n",
    "# stack implementation using a linked list.\n",
    "# node class\n",
    "class Node:\n",
    "   def __init__(self, value):\n",
    "      self.value = value\n",
    "      self.next = None\n",
    " \n",
    "class Stack:\n",
    "    \n",
    "   # Initializing a stack.\n",
    "   # Use a dummy node, which is\n",
    "   # easier for handling edge cases.\n",
    "   def __init__(self):\n",
    "      self.head = Node(\"head\")\n",
    "      self.size = 0\n",
    " \n",
    "   # String representation of the stack\n",
    "   def __str__(self):\n",
    "      cur = self.head.next\n",
    "      out = \"\"\n",
    "      while cur:\n",
    "         out += str(cur.value) + \"->\"\n",
    "         cur = cur.next\n",
    "      return out[:-3]  \n",
    " \n",
    "   # Get the current size of the stack\n",
    "   def getSize(self):\n",
    "      return self.size\n",
    "    \n",
    "   # Check if the stack is empty\n",
    "   def isEmpty(self):\n",
    "      return self.size == 0\n",
    "    \n",
    "   # Get the top item of the stack\n",
    "   def peek(self):\n",
    "       \n",
    "      # Sanitary check to see if we\n",
    "      # are peeking an empty stack.\n",
    "      if self.isEmpty():\n",
    "         raise Exception(\"Peeking from an empty stack\")\n",
    "      return self.head.next.value\n",
    " \n",
    "   # Push a value into the stack.\n",
    "   def push(self, value):\n",
    "      node = Node(value)\n",
    "      node.next = self.head.next\n",
    "      self.head.next = node\n",
    "      self.size += 1\n",
    "      \n",
    "   # Remove a value from the stack and return.\n",
    "   def pop(self):\n",
    "      if self.isEmpty():\n",
    "         raise Exception(\"Popping from an empty stack\")\n",
    "      remove = self.head.next\n",
    "      self.head.next = self.head.next.next\n",
    "      self.size -= 1\n",
    "      return remove.value\n",
    " \n",
    "# Driver Code\n",
    "if __name__ == \"__main__\":\n",
    "   stack = Stack()\n",
    "   for i in range(1, 11):\n",
    "      stack.push(i)\n",
    "   print(f\"Stack: {stack}\")\n",
    " \n",
    "   for _ in range(1, 6):\n",
    "      remove = stack.pop()\n",
    "      print(f\"Pop: {remove}\")\n",
    "   print(f\"Stack: {stack}\")"
   ]
  },
  {
   "cell_type": "code",
   "execution_count": 8,
   "metadata": {},
   "outputs": [
    {
     "output_type": "execute_result",
     "data": {
      "text/plain": [
       "[19, 20]"
      ]
     },
     "metadata": {},
     "execution_count": 8
    }
   ],
   "source": [
    "class Stack:\n",
    "     def __init__(self):\n",
    "         self.items = []\n",
    "\n",
    "     def isEmpty(self):\n",
    "         return self.items == []\n",
    "\n",
    "     def push(self, item):\n",
    "         self.items.append(item)\n",
    "\n",
    "     def pop(self):\n",
    "         return self.items.pop()\n",
    "\n",
    "     def peek(self):\n",
    "         return self.items[len(self.items)-1]\n",
    "\n",
    "     def size(self):\n",
    "         return len(self.items)\n",
    "\n",
    "     def display(self):\n",
    "         return self.items\n",
    "\n",
    "s = Stack()\n",
    "s.push(19)\n",
    "s.push(20)\n",
    "s.push(46)\n",
    "s.push(90)\n",
    "s.display()\n",
    "s.pop()\n",
    "s.pop()\n",
    "s.display()\n",
    "\n"
   ]
  },
  {
   "cell_type": "code",
   "execution_count": 11,
   "metadata": {},
   "outputs": [
    {
     "output_type": "execute_result",
     "data": {
      "text/plain": [
       "'MAVIHS'"
      ]
     },
     "metadata": {},
     "execution_count": 11
    }
   ],
   "source": [
    "a = input(\"Emter your name:\")\n",
    "p = len(a)\n",
    "stack = []\n",
    "for i in range(p):\n",
    "    u = a[i]\n",
    "    stack.append(u)\n",
    "\n",
    "#stack\n",
    "revers = []\n",
    "for i in range(p):\n",
    "    q=stack.pop()\n",
    "    revers.append(q)\n",
    "\n",
    "\"\".join(revers)\n",
    "\n"
   ]
  },
  {
   "cell_type": "code",
   "execution_count": null,
   "metadata": {},
   "outputs": [],
   "source": []
  }
 ]
}